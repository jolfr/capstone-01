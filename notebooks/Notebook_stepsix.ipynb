{
 "cells": [
  {
   "cell_type": "markdown",
   "metadata": {
    "colab_type": "text",
    "id": "cf5CmXQCZyF1"
   },
   "source": [
    "# Guided Capstone Step 6. Documentation"
   ]
  },
  {
   "cell_type": "markdown",
   "metadata": {
    "colab_type": "text",
    "id": "JbZXsVevfr9M"
   },
   "source": [
    "**The Data Science Method**  \n",
    "\n",
    "\n",
    "1.   Problem Identification \n",
    "\n",
    "2.   Data Wrangling \n",
    "  \n",
    "3.   Exploratory Data Analysis \n",
    " \n",
    "4.   Pre-processing and Training Data Development\n",
    "\n",
    "5.  Modeling\n",
    "\n",
    "6.   **Documentation**\n",
    "  * Review the Results\n",
    "  * Finalize Code \n",
    "  * Finalize Documentation\n",
    "  * Create a Project Report \n",
    "  * Create a Slide Deck for the Executive Audience"
   ]
  },
  {
   "cell_type": "markdown",
   "metadata": {
    "colab_type": "text",
    "id": "D-oGciwnGUYk"
   },
   "source": [
    "In this guided capstone we are going to revisit many of the actions we took in the previous guided capstone steps. This gives you the opportunity to practice the code you wrote to solve the questions in step 4 and 5. "
   ]
  },
  {
   "cell_type": "markdown",
   "metadata": {
    "colab_type": "text",
    "id": "K8xfkAqqZyF2"
   },
   "source": [
    "**<font color='teal'> Start by loading the necessary packages and printing out our current working directory just to confirm we are in the correct project directory. </font>**"
   ]
  },
  {
   "cell_type": "code",
   "execution_count": 1,
   "metadata": {
    "colab": {},
    "colab_type": "code",
    "id": "ry6WPL5eZyF3",
    "pycharm": {
     "is_executing": true
    }
   },
   "outputs": [
    {
     "data": {
      "text/plain": [
       "'C:\\\\Users\\\\thoma\\\\projects\\\\datascience\\\\capstone-01\\\\notebooks'"
      ]
     },
     "execution_count": 1,
     "metadata": {},
     "output_type": "execute_result"
    }
   ],
   "source": [
    "#load python packages\n",
    "import os\n",
    "import pandas as pd\n",
    "import datetime\n",
    "import seaborn as sns\n",
    "import matplotlib.pyplot as plt\n",
    "import numpy as np\n",
    "from sklearn import preprocessing\n",
    "from sklearn.model_selection import train_test_split\n",
    "from sklearn import linear_model\n",
    "from sklearn.metrics import explained_variance_score,mean_absolute_error\n",
    "#print out current directory\n",
    "os.getcwd()"
   ]
  },
  {
   "cell_type": "markdown",
   "metadata": {
    "colab_type": "text",
    "id": "0HTP9cF2GUYs"
   },
   "source": [
    "## Fit Models with Training Dataset"
   ]
  },
  {
   "cell_type": "markdown",
   "metadata": {
    "colab_type": "text",
    "id": "A2FmSbtCGUYt"
   },
   "source": [
    "**<font color='teal'> Using sklearn fit the model you chose in Guided Capstone 5 on your training dataset. This includes: creating dummy features for states if you need them, scaling the data,and creating train and test splits before fitting the chosen model. Also, remember to generate a model performance score(MAE, or explained variance) based on the testing hold-out data set.</font>**"
   ]
  },
  {
   "cell_type": "markdown",
   "metadata": {},
   "source": [
    "#### Import Cleaned Data"
   ]
  },
  {
   "cell_type": "code",
   "execution_count": 2,
   "metadata": {},
   "outputs": [],
   "source": [
    "path = 'C:\\\\Users\\\\thoma\\\\projects\\\\datascience\\\\capstone-01\\\\data\\\\processed'\n",
    "os.chdir(path)\n",
    "\n",
    "df = pd.read_csv('step3_output.csv')"
   ]
  },
  {
   "cell_type": "markdown",
   "metadata": {},
   "source": [
    "#### Drop Weekday Prices\n",
    "Weekday and weekend prices are both response variables with high correlation, so one must be dropped to model the other."
   ]
  },
  {
   "cell_type": "code",
   "execution_count": 3,
   "metadata": {},
   "outputs": [],
   "source": [
    "df.drop('AdultWeekday', axis=1, inplace=True)"
   ]
  },
  {
   "cell_type": "markdown",
   "metadata": {},
   "source": [
    "#### Duplicate dataframe for prediction and recommendations"
   ]
  },
  {
   "cell_type": "code",
   "execution_count": 4,
   "metadata": {},
   "outputs": [],
   "source": [
    "predict = df.copy()\n",
    "recommend = df.copy()"
   ]
  },
  {
   "cell_type": "markdown",
   "metadata": {},
   "source": [
    "## <font color='teal'>Price Prediction Model</font>\n",
    "Model to predict ticket prices based upon alterable qualities and inherent mountain features."
   ]
  },
  {
   "cell_type": "markdown",
   "metadata": {},
   "source": [
    "#### Create Dummy Features for Categorical Variables\n",
    "State is a categorical variable, so dummy variables will need to be created to allow modelling."
   ]
  },
  {
   "cell_type": "code",
   "execution_count": 5,
   "metadata": {},
   "outputs": [],
   "source": [
    "dfo=predict[['state']] # select state column\n",
    "\n",
    "predict = pd.concat([predict.drop(dfo, axis=1), pd.get_dummies(dfo)], axis=1) # generate dummy columns and then drop state categorical column"
   ]
  },
  {
   "cell_type": "markdown",
   "metadata": {},
   "source": [
    "#### Standardize the magnitude of numeric features"
   ]
  },
  {
   "cell_type": "code",
   "execution_count": 6,
   "metadata": {},
   "outputs": [],
   "source": [
    "# Declare an explanatory variable, called X,and assign it the result of dropping 'Name' and 'AdultWeekend' from the df\n",
    "X_pred = predict.drop(['Name','AdultWeekend'], axis=1)\n",
    "\n",
    "# Declare a response variable, called y, and assign it the AdultWeekend column of the df \n",
    "y_pred = predict.loc[:,'AdultWeekend']\n",
    "\n",
    "# Here we use the StandardScaler() method of the preprocessing package, and then call the fit() method with parameter X \n",
    "scaler_pred = preprocessing.StandardScaler().fit(X_pred)\n",
    "\n",
    "# Declare a variable called X_scaled, and assign it the result of calling the transform() method with parameter X \n",
    "X_scaled_pred = scaler_pred.transform(X_pred)"
   ]
  },
  {
   "cell_type": "markdown",
   "metadata": {},
   "source": [
    "#### Flatten response variable"
   ]
  },
  {
   "cell_type": "code",
   "execution_count": 7,
   "metadata": {},
   "outputs": [],
   "source": [
    "y_pred = y_pred.ravel()"
   ]
  },
  {
   "cell_type": "markdown",
   "metadata": {},
   "source": [
    "#### Split into training and test datasets"
   ]
  },
  {
   "cell_type": "code",
   "execution_count": 8,
   "metadata": {},
   "outputs": [],
   "source": [
    "X_train_pred, X_test_pred, y_train_pred, y_test_pred = train_test_split(X_scaled_pred, y_pred, test_size=0.25, random_state=1)"
   ]
  },
  {
   "cell_type": "markdown",
   "metadata": {},
   "source": [
    "#### Fit model with training dataset"
   ]
  },
  {
   "cell_type": "code",
   "execution_count": 9,
   "metadata": {},
   "outputs": [],
   "source": [
    "lm_pred = linear_model.LinearRegression()\n",
    "predict_model = lm_pred.fit(X_train_pred,y_train_pred)"
   ]
  },
  {
   "cell_type": "markdown",
   "metadata": {},
   "source": [
    "#### Check Model"
   ]
  },
  {
   "cell_type": "code",
   "execution_count": 10,
   "metadata": {},
   "outputs": [],
   "source": [
    "y_check_pred = predict_model.predict(X_test_pred)"
   ]
  },
  {
   "cell_type": "code",
   "execution_count": 11,
   "metadata": {
    "pycharm": {
     "name": "#%%\n"
    }
   },
   "outputs": [
    {
     "data": {
      "text/plain": [
       "0.3662666865074793"
      ]
     },
     "execution_count": 11,
     "metadata": {},
     "output_type": "execute_result"
    }
   ],
   "source": [
    "explained_variance_score(y_test_pred, y_check_pred)"
   ]
  },
  {
   "cell_type": "code",
   "execution_count": 12,
   "metadata": {
    "pycharm": {
     "name": "#%%\n"
    }
   },
   "outputs": [
    {
     "data": {
      "text/plain": [
       "13.763082588095843"
      ]
     },
     "execution_count": 12,
     "metadata": {},
     "output_type": "execute_result"
    }
   ],
   "source": [
    "mean_absolute_error(y_test_pred, y_check_pred)"
   ]
  },
  {
   "cell_type": "markdown",
   "metadata": {
    "pycharm": {
     "name": "#%% md\n"
    }
   },
   "source": [
    "States should be top 10 coefficients"
   ]
  },
  {
   "cell_type": "code",
   "execution_count": 13,
   "metadata": {
    "pycharm": {
     "name": "#%%\n"
    }
   },
   "outputs": [
    {
     "data": {
      "text/html": [
       "<div>\n",
       "<style scoped>\n",
       "    .dataframe tbody tr th:only-of-type {\n",
       "        vertical-align: middle;\n",
       "    }\n",
       "\n",
       "    .dataframe tbody tr th {\n",
       "        vertical-align: top;\n",
       "    }\n",
       "\n",
       "    .dataframe thead th {\n",
       "        text-align: right;\n",
       "    }\n",
       "</style>\n",
       "<table border=\"1\" class=\"dataframe\">\n",
       "  <thead>\n",
       "    <tr style=\"text-align: right;\">\n",
       "      <th></th>\n",
       "      <th>Coefficient</th>\n",
       "    </tr>\n",
       "  </thead>\n",
       "  <tbody>\n",
       "    <tr>\n",
       "      <th>state_New York</th>\n",
       "      <td>3.168573e+13</td>\n",
       "    </tr>\n",
       "    <tr>\n",
       "      <th>state_Michigan</th>\n",
       "      <td>2.990272e+13</td>\n",
       "    </tr>\n",
       "    <tr>\n",
       "      <th>state_Colorado</th>\n",
       "      <td>2.634603e+13</td>\n",
       "    </tr>\n",
       "    <tr>\n",
       "      <th>state_California</th>\n",
       "      <td>2.578205e+13</td>\n",
       "    </tr>\n",
       "    <tr>\n",
       "      <th>state_Pennsylvania</th>\n",
       "      <td>2.460285e+13</td>\n",
       "    </tr>\n",
       "    <tr>\n",
       "      <th>state_New Hampshire</th>\n",
       "      <td>2.268576e+13</td>\n",
       "    </tr>\n",
       "    <tr>\n",
       "      <th>state_Wisconsin</th>\n",
       "      <td>2.268576e+13</td>\n",
       "    </tr>\n",
       "    <tr>\n",
       "      <th>state_Vermont</th>\n",
       "      <td>2.200034e+13</td>\n",
       "    </tr>\n",
       "    <tr>\n",
       "      <th>state_Minnesota</th>\n",
       "      <td>2.128806e+13</td>\n",
       "    </tr>\n",
       "    <tr>\n",
       "      <th>state_Utah</th>\n",
       "      <td>2.054612e+13</td>\n",
       "    </tr>\n",
       "  </tbody>\n",
       "</table>\n",
       "</div>"
      ],
      "text/plain": [
       "                      Coefficient\n",
       "state_New York       3.168573e+13\n",
       "state_Michigan       2.990272e+13\n",
       "state_Colorado       2.634603e+13\n",
       "state_California     2.578205e+13\n",
       "state_Pennsylvania   2.460285e+13\n",
       "state_New Hampshire  2.268576e+13\n",
       "state_Wisconsin      2.268576e+13\n",
       "state_Vermont        2.200034e+13\n",
       "state_Minnesota      2.128806e+13\n",
       "state_Utah           2.054612e+13"
      ]
     },
     "execution_count": 13,
     "metadata": {},
     "output_type": "execute_result"
    }
   ],
   "source": [
    "pd.DataFrame(abs(lm_pred.coef_), X_pred.columns, columns=['Coefficient']).sort_values('Coefficient', ascending=False).head(10)"
   ]
  },
  {
   "cell_type": "markdown",
   "metadata": {
    "pycharm": {
     "name": "#%% md\n"
    }
   },
   "source": [
    "## <font color='teal'>Management Recommendations</font>\n",
    "Management reccomendations for alterations that would allow ticket price increases."
   ]
  },
  {
   "cell_type": "markdown",
   "metadata": {},
   "source": [
    "#### Drop features that cannot be changed\n",
    "In this model, we are studying alterable features that will allow for future price increases, so features are difficult to change from a management perspective must be dropped."
   ]
  },
  {
   "cell_type": "code",
   "execution_count": 14,
   "metadata": {},
   "outputs": [
    {
     "name": "stdout",
     "output_type": "stream",
     "text": [
      "<class 'pandas.core.frame.DataFrame'>\n",
      "RangeIndex: 330 entries, 0 to 329\n",
      "Data columns (total 18 columns):\n",
      " #   Column             Non-Null Count  Dtype  \n",
      "---  ------             --------------  -----  \n",
      " 0   Name               330 non-null    object \n",
      " 1   trams              330 non-null    int64  \n",
      " 2   fastEight          330 non-null    int64  \n",
      " 3   fastSixes          330 non-null    int64  \n",
      " 4   fastQuads          330 non-null    int64  \n",
      " 5   quad               330 non-null    int64  \n",
      " 6   triple             330 non-null    int64  \n",
      " 7   double             330 non-null    int64  \n",
      " 8   surface            330 non-null    int64  \n",
      " 9   total_chairs       330 non-null    int64  \n",
      " 10  Runs               330 non-null    int64  \n",
      " 11  TerrainParks       330 non-null    int64  \n",
      " 12  LongestRun_mi      330 non-null    float64\n",
      " 13  SkiableTerrain_ac  330 non-null    float64\n",
      " 14  Snow Making_ac     330 non-null    float64\n",
      " 15  AdultWeekend       330 non-null    float64\n",
      " 16  NightSkiing_ac     330 non-null    float64\n",
      " 17  clusters           330 non-null    int64  \n",
      "dtypes: float64(5), int64(12), object(1)\n",
      "memory usage: 46.5+ KB\n"
     ]
    }
   ],
   "source": [
    "recommend = recommend.drop(['state','summit_elev','vertical_drop','averageSnowfall','yearsOpen','daysOpenLastYear','projectedDaysOpen'], axis=1)\n",
    "recommend.info()"
   ]
  },
  {
   "cell_type": "markdown",
   "metadata": {},
   "source": [
    "#### Standardize the magnitude of numeric features"
   ]
  },
  {
   "cell_type": "code",
   "execution_count": 15,
   "metadata": {},
   "outputs": [],
   "source": [
    "# Declare an explanatory variable, called X,and assign it the result of dropping 'Name' and 'AdultWeekend' from the df\n",
    "X_rec = recommend.drop(['Name','AdultWeekend'], axis=1)\n",
    "\n",
    "# Declare a response variable, called y, and assign it the AdultWeekend column of the df \n",
    "y_rec = recommend.loc[:,'AdultWeekend']\n",
    "\n",
    "# Here we use the StandardScaler() method of the preprocessing package, and then call the fit() method with parameter X \n",
    "scaler_rec = preprocessing.StandardScaler().fit(X_rec)\n",
    "\n",
    "# Declare a variable called X_scaled, and assign it the result of calling the transform() method with parameter X \n",
    "X_scaled_rec = scaler_rec.transform(X_rec)"
   ]
  },
  {
   "cell_type": "markdown",
   "metadata": {},
   "source": [
    "#### Flatten Response Variable"
   ]
  },
  {
   "cell_type": "code",
   "execution_count": 16,
   "metadata": {},
   "outputs": [],
   "source": [
    "y_rec = y_rec.ravel()"
   ]
  },
  {
   "cell_type": "markdown",
   "metadata": {},
   "source": [
    "#### Split into training and test datasets"
   ]
  },
  {
   "cell_type": "code",
   "execution_count": 17,
   "metadata": {},
   "outputs": [],
   "source": [
    "X_train_rec, X_test_rec, y_train_rec, y_test_rec = train_test_split(X_scaled_rec, y_rec, test_size=0.25, random_state=1)"
   ]
  },
  {
   "cell_type": "markdown",
   "metadata": {},
   "source": [
    "#### Fit model with training dataset"
   ]
  },
  {
   "cell_type": "code",
   "execution_count": 18,
   "metadata": {
    "pycharm": {
     "name": "#%%\n"
    }
   },
   "outputs": [],
   "source": [
    "lm_rec = linear_model.LinearRegression()\n",
    "recommend_model = lm_rec.fit(X_train_rec,y_train_rec)"
   ]
  },
  {
   "cell_type": "markdown",
   "metadata": {
    "pycharm": {
     "name": "#%% md\n"
    }
   },
   "source": [
    "#### Print coefficient weights\n",
    "Higher weighted coefficients affect ticket prices more, so if management would like to increase ticket price long term, they must increase these metrics."
   ]
  },
  {
   "cell_type": "code",
   "execution_count": 19,
   "metadata": {},
   "outputs": [
    {
     "data": {
      "text/html": [
       "<div>\n",
       "<style scoped>\n",
       "    .dataframe tbody tr th:only-of-type {\n",
       "        vertical-align: middle;\n",
       "    }\n",
       "\n",
       "    .dataframe tbody tr th {\n",
       "        vertical-align: top;\n",
       "    }\n",
       "\n",
       "    .dataframe thead th {\n",
       "        text-align: right;\n",
       "    }\n",
       "</style>\n",
       "<table border=\"1\" class=\"dataframe\">\n",
       "  <thead>\n",
       "    <tr style=\"text-align: right;\">\n",
       "      <th></th>\n",
       "      <th>Coefficient</th>\n",
       "    </tr>\n",
       "  </thead>\n",
       "  <tbody>\n",
       "    <tr>\n",
       "      <th>Snow Making_ac</th>\n",
       "      <td>8.491579</td>\n",
       "    </tr>\n",
       "    <tr>\n",
       "      <th>Runs</th>\n",
       "      <td>5.060119</td>\n",
       "    </tr>\n",
       "    <tr>\n",
       "      <th>fastQuads</th>\n",
       "      <td>3.783783</td>\n",
       "    </tr>\n",
       "    <tr>\n",
       "      <th>quad</th>\n",
       "      <td>3.329143</td>\n",
       "    </tr>\n",
       "    <tr>\n",
       "      <th>triple</th>\n",
       "      <td>2.551908</td>\n",
       "    </tr>\n",
       "    <tr>\n",
       "      <th>LongestRun_mi</th>\n",
       "      <td>2.127807</td>\n",
       "    </tr>\n",
       "    <tr>\n",
       "      <th>total_chairs</th>\n",
       "      <td>1.217728</td>\n",
       "    </tr>\n",
       "    <tr>\n",
       "      <th>SkiableTerrain_ac</th>\n",
       "      <td>0.798363</td>\n",
       "    </tr>\n",
       "    <tr>\n",
       "      <th>double</th>\n",
       "      <td>0.525715</td>\n",
       "    </tr>\n",
       "    <tr>\n",
       "      <th>clusters</th>\n",
       "      <td>-0.057747</td>\n",
       "    </tr>\n",
       "  </tbody>\n",
       "</table>\n",
       "</div>"
      ],
      "text/plain": [
       "                   Coefficient\n",
       "Snow Making_ac        8.491579\n",
       "Runs                  5.060119\n",
       "fastQuads             3.783783\n",
       "quad                  3.329143\n",
       "triple                2.551908\n",
       "LongestRun_mi         2.127807\n",
       "total_chairs          1.217728\n",
       "SkiableTerrain_ac     0.798363\n",
       "double                0.525715\n",
       "clusters             -0.057747"
      ]
     },
     "execution_count": 19,
     "metadata": {},
     "output_type": "execute_result"
    }
   ],
   "source": [
    "pd.DataFrame(lm_rec.coef_, X_rec.columns, columns=['Coefficient']).sort_values('Coefficient', ascending=False).head(10)"
   ]
  },
  {
   "cell_type": "markdown",
   "metadata": {
    "colab_type": "text",
    "id": "GGizyeLZGUYz"
   },
   "source": [
    "## Review the results "
   ]
  },
  {
   "cell_type": "markdown",
   "metadata": {
    "colab_type": "text",
    "id": "4Lhu-qisGUY0",
    "pycharm": {
     "name": "#%% md\n"
    }
   },
   "source": [
    "**<font color='teal'> Now, let's predict the Whitefish Mountain Weekend price with our model in order to provide a recommendation to our managers on how to price the `AdultWeekend` lift ticket. First we need to find the row for Big Mountain resort in our data using string contains or string matching.</font>**\n",
    "<br/><br/>**NOTE:** The resort is not called Big Mountain Resort, but instead Whitefish Mountain Ski Resort"
   ]
  },
  {
   "cell_type": "code",
   "execution_count": 20,
   "metadata": {
    "pycharm": {
     "name": "#%%\n"
    }
   },
   "outputs": [
    {
     "data": {
      "text/html": [
       "<div>\n",
       "<style scoped>\n",
       "    .dataframe tbody tr th:only-of-type {\n",
       "        vertical-align: middle;\n",
       "    }\n",
       "\n",
       "    .dataframe tbody tr th {\n",
       "        vertical-align: top;\n",
       "    }\n",
       "\n",
       "    .dataframe thead th {\n",
       "        text-align: right;\n",
       "    }\n",
       "</style>\n",
       "<table border=\"1\" class=\"dataframe\">\n",
       "  <thead>\n",
       "    <tr style=\"text-align: right;\">\n",
       "      <th></th>\n",
       "      <th>Name</th>\n",
       "      <th>summit_elev</th>\n",
       "      <th>vertical_drop</th>\n",
       "      <th>trams</th>\n",
       "      <th>fastEight</th>\n",
       "      <th>fastSixes</th>\n",
       "      <th>fastQuads</th>\n",
       "      <th>quad</th>\n",
       "      <th>triple</th>\n",
       "      <th>double</th>\n",
       "      <th>...</th>\n",
       "      <th>state_Rhode Island</th>\n",
       "      <th>state_South Dakota</th>\n",
       "      <th>state_Tennessee</th>\n",
       "      <th>state_Utah</th>\n",
       "      <th>state_Vermont</th>\n",
       "      <th>state_Virginia</th>\n",
       "      <th>state_Washington</th>\n",
       "      <th>state_West Virginia</th>\n",
       "      <th>state_Wisconsin</th>\n",
       "      <th>state_Wyoming</th>\n",
       "    </tr>\n",
       "  </thead>\n",
       "  <tbody>\n",
       "  </tbody>\n",
       "</table>\n",
       "<p>0 rows × 59 columns</p>\n",
       "</div>"
      ],
      "text/plain": [
       "Empty DataFrame\n",
       "Columns: [Name, summit_elev, vertical_drop, trams, fastEight, fastSixes, fastQuads, quad, triple, double, surface, total_chairs, Runs, TerrainParks, LongestRun_mi, SkiableTerrain_ac, Snow Making_ac, daysOpenLastYear, yearsOpen, averageSnowfall, AdultWeekend, projectedDaysOpen, NightSkiing_ac, clusters, state_Alaska, state_Arizona, state_California, state_Colorado, state_Connecticut, state_Idaho, state_Illinois, state_Indiana, state_Iowa, state_Maine, state_Maryland, state_Massachusetts, state_Michigan, state_Minnesota, state_Missouri, state_Montana, state_Nevada, state_New Hampshire, state_New Jersey, state_New Mexico, state_New York, state_North Carolina, state_Ohio, state_Oregon, state_Pennsylvania, state_Rhode Island, state_South Dakota, state_Tennessee, state_Utah, state_Vermont, state_Virginia, state_Washington, state_West Virginia, state_Wisconsin, state_Wyoming]\n",
       "Index: []\n",
       "\n",
       "[0 rows x 59 columns]"
      ]
     },
     "execution_count": 20,
     "metadata": {},
     "output_type": "execute_result"
    }
   ],
   "source": [
    "predict[predict['Name'].str.contains('Big Mountain')]"
   ]
  },
  {
   "cell_type": "code",
   "execution_count": 21,
   "metadata": {
    "colab": {},
    "colab_type": "code",
    "id": "YXnx_IuEGUY1"
   },
   "outputs": [
    {
     "data": {
      "text/html": [
       "<div>\n",
       "<style scoped>\n",
       "    .dataframe tbody tr th:only-of-type {\n",
       "        vertical-align: middle;\n",
       "    }\n",
       "\n",
       "    .dataframe tbody tr th {\n",
       "        vertical-align: top;\n",
       "    }\n",
       "\n",
       "    .dataframe thead th {\n",
       "        text-align: right;\n",
       "    }\n",
       "</style>\n",
       "<table border=\"1\" class=\"dataframe\">\n",
       "  <thead>\n",
       "    <tr style=\"text-align: right;\">\n",
       "      <th></th>\n",
       "      <th>Name</th>\n",
       "      <th>summit_elev</th>\n",
       "      <th>vertical_drop</th>\n",
       "      <th>trams</th>\n",
       "      <th>fastEight</th>\n",
       "      <th>fastSixes</th>\n",
       "      <th>fastQuads</th>\n",
       "      <th>quad</th>\n",
       "      <th>triple</th>\n",
       "      <th>double</th>\n",
       "      <th>...</th>\n",
       "      <th>state_Rhode Island</th>\n",
       "      <th>state_South Dakota</th>\n",
       "      <th>state_Tennessee</th>\n",
       "      <th>state_Utah</th>\n",
       "      <th>state_Vermont</th>\n",
       "      <th>state_Virginia</th>\n",
       "      <th>state_Washington</th>\n",
       "      <th>state_West Virginia</th>\n",
       "      <th>state_Wisconsin</th>\n",
       "      <th>state_Wyoming</th>\n",
       "    </tr>\n",
       "  </thead>\n",
       "  <tbody>\n",
       "    <tr>\n",
       "      <th>151</th>\n",
       "      <td>Whitefish Mountain Resort</td>\n",
       "      <td>6817</td>\n",
       "      <td>2353</td>\n",
       "      <td>0</td>\n",
       "      <td>0</td>\n",
       "      <td>0</td>\n",
       "      <td>3</td>\n",
       "      <td>2</td>\n",
       "      <td>6</td>\n",
       "      <td>0</td>\n",
       "      <td>...</td>\n",
       "      <td>0</td>\n",
       "      <td>0</td>\n",
       "      <td>0</td>\n",
       "      <td>0</td>\n",
       "      <td>0</td>\n",
       "      <td>0</td>\n",
       "      <td>0</td>\n",
       "      <td>0</td>\n",
       "      <td>0</td>\n",
       "      <td>0</td>\n",
       "    </tr>\n",
       "  </tbody>\n",
       "</table>\n",
       "<p>1 rows × 59 columns</p>\n",
       "</div>"
      ],
      "text/plain": [
       "                          Name  summit_elev  vertical_drop  trams  fastEight  \\\n",
       "151  Whitefish Mountain Resort         6817           2353      0          0   \n",
       "\n",
       "     fastSixes  fastQuads  quad  triple  double  ...  state_Rhode Island  \\\n",
       "151          0          3     2       6       0  ...                   0   \n",
       "\n",
       "     state_South Dakota  state_Tennessee  state_Utah  state_Vermont  \\\n",
       "151                   0                0           0              0   \n",
       "\n",
       "     state_Virginia  state_Washington  state_West Virginia  state_Wisconsin  \\\n",
       "151               0                 0                    0                0   \n",
       "\n",
       "     state_Wyoming  \n",
       "151              0  \n",
       "\n",
       "[1 rows x 59 columns]"
      ]
     },
     "execution_count": 21,
     "metadata": {},
     "output_type": "execute_result"
    }
   ],
   "source": [
    "client = predict[predict['Name'].str.contains('Whitefish Mountain Resort')]\n",
    "client"
   ]
  },
  {
   "cell_type": "markdown",
   "metadata": {
    "colab_type": "text",
    "id": "83-jO9hPGUY4"
   },
   "source": [
    "**<font color='teal'> Prepare the Whitefish Mountain resort data row as you did in the model fitting stage.</font>**"
   ]
  },
  {
   "cell_type": "code",
   "execution_count": 22,
   "metadata": {},
   "outputs": [],
   "source": [
    "X_client = client.drop(['Name','AdultWeekend'], axis=1)\n",
    "X_scaled_client = scaler_pred.transform(X_client)"
   ]
  },
  {
   "cell_type": "markdown",
   "metadata": {
    "colab_type": "text",
    "id": "2BCFqZYBGUY9"
   },
   "source": [
    "**<font color='teal'> Predict the Whitefish Mountain resort `Adult Weekend` price and print it out.</font>** This is our expected price to present to management. Based on our model given the characteristics of the resort in comparison to other ski resorts and their unique characteristics."
   ]
  },
  {
   "cell_type": "code",
   "execution_count": 23,
   "metadata": {
    "colab": {},
    "colab_type": "code",
    "id": "XebWxxTMGUY-",
    "pycharm": {
     "name": "#%%\n"
    },
    "scrolled": true
   },
   "outputs": [
    {
     "name": "stdout",
     "output_type": "stream",
     "text": [
      "Predicted Ticket Price: $81.77\n"
     ]
    }
   ],
   "source": [
    "ticket_pred = predict_model.predict(X_scaled_client)\n",
    "print('Predicted Ticket Price: $' + \"{:.2f}\".format(ticket_pred[0]))"
   ]
  },
  {
   "cell_type": "markdown",
   "metadata": {
    "colab_type": "text",
    "id": "_5BvguMLGUZB",
    "pycharm": {
     "name": "#%% md\n"
    }
   },
   "source": [
    "**<font color='teal'> Print the Big Mountain resort actual `Adult Weekend` price.</font>**"
   ]
  },
  {
   "cell_type": "code",
   "execution_count": 24,
   "metadata": {
    "colab": {},
    "colab_type": "code",
    "id": "WyxTHtL2GUZC",
    "pycharm": {
     "name": "#%%\n"
    }
   },
   "outputs": [
    {
     "name": "stdout",
     "output_type": "stream",
     "text": [
      "Actual Ticket Price: $81.00\n"
     ]
    }
   ],
   "source": [
    "print('Actual Ticket Price: $' + \"{:.2f}\".format(client['AdultWeekend'].to_numpy()[0]))"
   ]
  },
  {
   "cell_type": "markdown",
   "metadata": {
    "pycharm": {
     "name": "#%% md\n"
    }
   },
   "source": [
    "## <font color='teal'>Management Recommendations</font>"
   ]
  },
  {
   "cell_type": "markdown",
   "metadata": {
    "pycharm": {
     "name": "#%% md\n"
    }
   },
   "source": [
    "The table below displays the top two features that management can alter to justify weekend ticket price increases. I will modify them and then predict the new ticket price based upon those changes."
   ]
  },
  {
   "cell_type": "code",
   "execution_count": 25,
   "metadata": {
    "pycharm": {
     "name": "#%%\n"
    }
   },
   "outputs": [
    {
     "data": {
      "text/html": [
       "<div>\n",
       "<style scoped>\n",
       "    .dataframe tbody tr th:only-of-type {\n",
       "        vertical-align: middle;\n",
       "    }\n",
       "\n",
       "    .dataframe tbody tr th {\n",
       "        vertical-align: top;\n",
       "    }\n",
       "\n",
       "    .dataframe thead th {\n",
       "        text-align: right;\n",
       "    }\n",
       "</style>\n",
       "<table border=\"1\" class=\"dataframe\">\n",
       "  <thead>\n",
       "    <tr style=\"text-align: right;\">\n",
       "      <th></th>\n",
       "      <th>Coefficient</th>\n",
       "    </tr>\n",
       "  </thead>\n",
       "  <tbody>\n",
       "    <tr>\n",
       "      <th>Snow Making_ac</th>\n",
       "      <td>8.491579</td>\n",
       "    </tr>\n",
       "    <tr>\n",
       "      <th>Runs</th>\n",
       "      <td>5.060119</td>\n",
       "    </tr>\n",
       "  </tbody>\n",
       "</table>\n",
       "</div>"
      ],
      "text/plain": [
       "                Coefficient\n",
       "Snow Making_ac     8.491579\n",
       "Runs               5.060119"
      ]
     },
     "execution_count": 25,
     "metadata": {},
     "output_type": "execute_result"
    }
   ],
   "source": [
    "pd.DataFrame(lm_rec.coef_, X_rec.columns, columns=['Coefficient']).sort_values('Coefficient', ascending=False).head(2)"
   ]
  },
  {
   "cell_type": "markdown",
   "metadata": {},
   "source": [
    "### <font color='teal'>Current Values for Top Features</font>"
   ]
  },
  {
   "cell_type": "code",
   "execution_count": 26,
   "metadata": {},
   "outputs": [
    {
     "name": "stdout",
     "output_type": "stream",
     "text": [
      "Current Snow Making Acerage: 600 acres\n"
     ]
    }
   ],
   "source": [
    "print('Current Snow Making Acerage: ' + \"{:.0f}\".format(client['Snow Making_ac'].to_numpy()[0]) + ' acres')"
   ]
  },
  {
   "cell_type": "code",
   "execution_count": 27,
   "metadata": {
    "pycharm": {
     "name": "#%%\n"
    }
   },
   "outputs": [
    {
     "name": "stdout",
     "output_type": "stream",
     "text": [
      "Current Number of Runs: 105 runs\n"
     ]
    }
   ],
   "source": [
    "print('Current Number of Runs: ' + \"{:.0f}\".format(client['Runs'].to_numpy()[0]) + ' runs')"
   ]
  },
  {
   "cell_type": "markdown",
   "metadata": {
    "pycharm": {
     "name": "#%% md\n"
    }
   },
   "source": [
    "### <font color='teal'>Ticket Predictions for Snow Making Acerage Increase</font>"
   ]
  },
  {
   "cell_type": "markdown",
   "metadata": {
    "pycharm": {
     "name": "#%% md\n"
    }
   },
   "source": [
    "#### Generate new dataframe with modified acerage"
   ]
  },
  {
   "cell_type": "code",
   "execution_count": 28,
   "metadata": {
    "pycharm": {
     "name": "#%%\n"
    }
   },
   "outputs": [
    {
     "name": "stdout",
     "output_type": "stream",
     "text": [
      "<class 'pandas.core.frame.DataFrame'>\n",
      "RangeIndex: 71 entries, 0 to 70\n",
      "Data columns (total 57 columns):\n",
      " #   Column                Non-Null Count  Dtype  \n",
      "---  ------                --------------  -----  \n",
      " 0   summit_elev           71 non-null     object \n",
      " 1   vertical_drop         71 non-null     object \n",
      " 2   trams                 71 non-null     object \n",
      " 3   fastEight             71 non-null     object \n",
      " 4   fastSixes             71 non-null     object \n",
      " 5   fastQuads             71 non-null     object \n",
      " 6   quad                  71 non-null     object \n",
      " 7   triple                71 non-null     object \n",
      " 8   double                71 non-null     object \n",
      " 9   surface               71 non-null     object \n",
      " 10  total_chairs          71 non-null     object \n",
      " 11  Runs                  71 non-null     object \n",
      " 12  TerrainParks          71 non-null     object \n",
      " 13  LongestRun_mi         71 non-null     float64\n",
      " 14  SkiableTerrain_ac     71 non-null     float64\n",
      " 15  Snow Making_ac        71 non-null     float64\n",
      " 16  daysOpenLastYear      71 non-null     object \n",
      " 17  yearsOpen             71 non-null     object \n",
      " 18  averageSnowfall       71 non-null     float64\n",
      " 19  projectedDaysOpen     71 non-null     object \n",
      " 20  NightSkiing_ac        71 non-null     float64\n",
      " 21  clusters              71 non-null     object \n",
      " 22  state_Alaska          71 non-null     object \n",
      " 23  state_Arizona         71 non-null     object \n",
      " 24  state_California      71 non-null     object \n",
      " 25  state_Colorado        71 non-null     object \n",
      " 26  state_Connecticut     71 non-null     object \n",
      " 27  state_Idaho           71 non-null     object \n",
      " 28  state_Illinois        71 non-null     object \n",
      " 29  state_Indiana         71 non-null     object \n",
      " 30  state_Iowa            71 non-null     object \n",
      " 31  state_Maine           71 non-null     object \n",
      " 32  state_Maryland        71 non-null     object \n",
      " 33  state_Massachusetts   71 non-null     object \n",
      " 34  state_Michigan        71 non-null     object \n",
      " 35  state_Minnesota       71 non-null     object \n",
      " 36  state_Missouri        71 non-null     object \n",
      " 37  state_Montana         71 non-null     object \n",
      " 38  state_Nevada          71 non-null     object \n",
      " 39  state_New Hampshire   71 non-null     object \n",
      " 40  state_New Jersey      71 non-null     object \n",
      " 41  state_New Mexico      71 non-null     object \n",
      " 42  state_New York        71 non-null     object \n",
      " 43  state_North Carolina  71 non-null     object \n",
      " 44  state_Ohio            71 non-null     object \n",
      " 45  state_Oregon          71 non-null     object \n",
      " 46  state_Pennsylvania    71 non-null     object \n",
      " 47  state_Rhode Island    71 non-null     object \n",
      " 48  state_South Dakota    71 non-null     object \n",
      " 49  state_Tennessee       71 non-null     object \n",
      " 50  state_Utah            71 non-null     object \n",
      " 51  state_Vermont         71 non-null     object \n",
      " 52  state_Virginia        71 non-null     object \n",
      " 53  state_Washington      71 non-null     object \n",
      " 54  state_West Virginia   71 non-null     object \n",
      " 55  state_Wisconsin       71 non-null     object \n",
      " 56  state_Wyoming         71 non-null     object \n",
      "dtypes: float64(5), object(52)\n",
      "memory usage: 31.7+ KB\n"
     ]
    }
   ],
   "source": [
    "acres = pd.DataFrame(columns=client.columns)\n",
    "row = client.copy()\n",
    "o_acres = client.at[151,'Snow Making_ac']\n",
    "for x in range(-100,610,10):\n",
    "    row.at[151,'Snow Making_ac'] = o_acres + x\n",
    "    acres = pd.concat([acres,row])\n",
    "acres = acres.reset_index()\n",
    "acres = acres.drop(['Name','AdultWeekend','index'], axis=1)\n",
    "acres.info()"
   ]
  },
  {
   "cell_type": "markdown",
   "metadata": {
    "pycharm": {
     "name": "#%% md\n"
    }
   },
   "source": [
    "#### Predict ticket price for each row"
   ]
  },
  {
   "cell_type": "code",
   "execution_count": 29,
   "metadata": {
    "pycharm": {
     "name": "#%%\n"
    }
   },
   "outputs": [],
   "source": [
    "for index, row in acres.iterrows():\n",
    "    X_scaled_acres = scaler_pred.transform(pd.DataFrame(row).T)\n",
    "    ticket_pred = predict_model.predict(X_scaled_acres)\n",
    "    acres.at[index,'ticketPred'] = ticket_pred[0]"
   ]
  },
  {
   "cell_type": "markdown",
   "metadata": {
    "pycharm": {
     "name": "#%% md\n"
    }
   },
   "source": [
    "#### Clean unnecessary rows"
   ]
  },
  {
   "cell_type": "code",
   "execution_count": 30,
   "metadata": {
    "pycharm": {
     "name": "#%%\n"
    }
   },
   "outputs": [
    {
     "data": {
      "text/html": [
       "<div>\n",
       "<style scoped>\n",
       "    .dataframe tbody tr th:only-of-type {\n",
       "        vertical-align: middle;\n",
       "    }\n",
       "\n",
       "    .dataframe tbody tr th {\n",
       "        vertical-align: top;\n",
       "    }\n",
       "\n",
       "    .dataframe thead th {\n",
       "        text-align: right;\n",
       "    }\n",
       "</style>\n",
       "<table border=\"1\" class=\"dataframe\">\n",
       "  <thead>\n",
       "    <tr style=\"text-align: right;\">\n",
       "      <th></th>\n",
       "      <th>Snow Making_ac</th>\n",
       "      <th>ticketPred</th>\n",
       "    </tr>\n",
       "  </thead>\n",
       "  <tbody>\n",
       "    <tr>\n",
       "      <th>0</th>\n",
       "      <td>500.0</td>\n",
       "      <td>79.199566</td>\n",
       "    </tr>\n",
       "    <tr>\n",
       "      <th>1</th>\n",
       "      <td>510.0</td>\n",
       "      <td>79.457379</td>\n",
       "    </tr>\n",
       "    <tr>\n",
       "      <th>2</th>\n",
       "      <td>520.0</td>\n",
       "      <td>79.715191</td>\n",
       "    </tr>\n",
       "    <tr>\n",
       "      <th>3</th>\n",
       "      <td>530.0</td>\n",
       "      <td>79.973004</td>\n",
       "    </tr>\n",
       "    <tr>\n",
       "      <th>4</th>\n",
       "      <td>540.0</td>\n",
       "      <td>80.230816</td>\n",
       "    </tr>\n",
       "    <tr>\n",
       "      <th>5</th>\n",
       "      <td>550.0</td>\n",
       "      <td>80.488629</td>\n",
       "    </tr>\n",
       "    <tr>\n",
       "      <th>6</th>\n",
       "      <td>560.0</td>\n",
       "      <td>80.746441</td>\n",
       "    </tr>\n",
       "    <tr>\n",
       "      <th>7</th>\n",
       "      <td>570.0</td>\n",
       "      <td>80.996441</td>\n",
       "    </tr>\n",
       "    <tr>\n",
       "      <th>8</th>\n",
       "      <td>580.0</td>\n",
       "      <td>81.254254</td>\n",
       "    </tr>\n",
       "    <tr>\n",
       "      <th>9</th>\n",
       "      <td>590.0</td>\n",
       "      <td>81.512066</td>\n",
       "    </tr>\n",
       "  </tbody>\n",
       "</table>\n",
       "</div>"
      ],
      "text/plain": [
       "   Snow Making_ac  ticketPred\n",
       "0           500.0   79.199566\n",
       "1           510.0   79.457379\n",
       "2           520.0   79.715191\n",
       "3           530.0   79.973004\n",
       "4           540.0   80.230816\n",
       "5           550.0   80.488629\n",
       "6           560.0   80.746441\n",
       "7           570.0   80.996441\n",
       "8           580.0   81.254254\n",
       "9           590.0   81.512066"
      ]
     },
     "execution_count": 30,
     "metadata": {},
     "output_type": "execute_result"
    }
   ],
   "source": [
    "acres = acres[['Snow Making_ac','ticketPred']]\n",
    "acres.head(10)"
   ]
  },
  {
   "cell_type": "markdown",
   "metadata": {
    "pycharm": {
     "name": "#%% md\n"
    }
   },
   "source": [
    "#### Export prediction dataframe"
   ]
  },
  {
   "cell_type": "code",
   "execution_count": 31,
   "metadata": {
    "pycharm": {
     "name": "#%%\n"
    }
   },
   "outputs": [
    {
     "name": "stdout",
     "output_type": "stream",
     "text": [
      "Done!\n"
     ]
    }
   ],
   "source": [
    "# Write dataframe to csv \n",
    "path=\"C:\\\\Users\\\\thoma\\\\projects\\\\datascience\\\\capstone-01\\\\data\\\\output\\\\snow_making_increase.csv\"\n",
    "acres.to_csv(path, index=False)\n",
    "print('Done!')"
   ]
  },
  {
   "cell_type": "markdown",
   "metadata": {
    "pycharm": {
     "name": "#%% md\n"
    }
   },
   "source": [
    "### <font color='teal'>Ticket Predictions for Run Increase</font>"
   ]
  },
  {
   "cell_type": "markdown",
   "metadata": {
    "pycharm": {
     "name": "#%% md\n"
    }
   },
   "source": [
    "#### Generate new dataframe with modified number of runs"
   ]
  },
  {
   "cell_type": "code",
   "execution_count": 32,
   "metadata": {},
   "outputs": [
    {
     "name": "stdout",
     "output_type": "stream",
     "text": [
      "<class 'pandas.core.frame.DataFrame'>\n",
      "RangeIndex: 60 entries, 0 to 59\n",
      "Data columns (total 57 columns):\n",
      " #   Column                Non-Null Count  Dtype  \n",
      "---  ------                --------------  -----  \n",
      " 0   summit_elev           60 non-null     object \n",
      " 1   vertical_drop         60 non-null     object \n",
      " 2   trams                 60 non-null     object \n",
      " 3   fastEight             60 non-null     object \n",
      " 4   fastSixes             60 non-null     object \n",
      " 5   fastQuads             60 non-null     object \n",
      " 6   quad                  60 non-null     object \n",
      " 7   triple                60 non-null     object \n",
      " 8   double                60 non-null     object \n",
      " 9   surface               60 non-null     object \n",
      " 10  total_chairs          60 non-null     object \n",
      " 11  Runs                  60 non-null     object \n",
      " 12  TerrainParks          60 non-null     object \n",
      " 13  LongestRun_mi         60 non-null     float64\n",
      " 14  SkiableTerrain_ac     60 non-null     float64\n",
      " 15  Snow Making_ac        60 non-null     float64\n",
      " 16  daysOpenLastYear      60 non-null     object \n",
      " 17  yearsOpen             60 non-null     object \n",
      " 18  averageSnowfall       60 non-null     float64\n",
      " 19  projectedDaysOpen     60 non-null     object \n",
      " 20  NightSkiing_ac        60 non-null     float64\n",
      " 21  clusters              60 non-null     object \n",
      " 22  state_Alaska          60 non-null     object \n",
      " 23  state_Arizona         60 non-null     object \n",
      " 24  state_California      60 non-null     object \n",
      " 25  state_Colorado        60 non-null     object \n",
      " 26  state_Connecticut     60 non-null     object \n",
      " 27  state_Idaho           60 non-null     object \n",
      " 28  state_Illinois        60 non-null     object \n",
      " 29  state_Indiana         60 non-null     object \n",
      " 30  state_Iowa            60 non-null     object \n",
      " 31  state_Maine           60 non-null     object \n",
      " 32  state_Maryland        60 non-null     object \n",
      " 33  state_Massachusetts   60 non-null     object \n",
      " 34  state_Michigan        60 non-null     object \n",
      " 35  state_Minnesota       60 non-null     object \n",
      " 36  state_Missouri        60 non-null     object \n",
      " 37  state_Montana         60 non-null     object \n",
      " 38  state_Nevada          60 non-null     object \n",
      " 39  state_New Hampshire   60 non-null     object \n",
      " 40  state_New Jersey      60 non-null     object \n",
      " 41  state_New Mexico      60 non-null     object \n",
      " 42  state_New York        60 non-null     object \n",
      " 43  state_North Carolina  60 non-null     object \n",
      " 44  state_Ohio            60 non-null     object \n",
      " 45  state_Oregon          60 non-null     object \n",
      " 46  state_Pennsylvania    60 non-null     object \n",
      " 47  state_Rhode Island    60 non-null     object \n",
      " 48  state_South Dakota    60 non-null     object \n",
      " 49  state_Tennessee       60 non-null     object \n",
      " 50  state_Utah            60 non-null     object \n",
      " 51  state_Vermont         60 non-null     object \n",
      " 52  state_Virginia        60 non-null     object \n",
      " 53  state_Washington      60 non-null     object \n",
      " 54  state_West Virginia   60 non-null     object \n",
      " 55  state_Wisconsin       60 non-null     object \n",
      " 56  state_Wyoming         60 non-null     object \n",
      "dtypes: float64(5), object(52)\n",
      "memory usage: 26.8+ KB\n"
     ]
    }
   ],
   "source": [
    "runs = pd.DataFrame(columns=client.columns)\n",
    "row = client.copy()\n",
    "o_runs = client.at[151,'Runs']\n",
    "for x in range(-10,50,1):\n",
    "    row.at[151,'Runs'] = o_runs + x\n",
    "    runs = pd.concat([runs,row])\n",
    "runs = runs.reset_index()\n",
    "runs = runs.drop(['Name','AdultWeekend','index'], axis=1)\n",
    "runs.info()"
   ]
  },
  {
   "cell_type": "markdown",
   "metadata": {
    "pycharm": {
     "name": "#%% md\n"
    }
   },
   "source": [
    "#### Predict ticket price for each row"
   ]
  },
  {
   "cell_type": "code",
   "execution_count": 33,
   "metadata": {
    "pycharm": {
     "name": "#%%\n"
    }
   },
   "outputs": [],
   "source": [
    "for index, row in runs.iterrows():\n",
    "    X_scaled_runs = scaler_pred.transform(pd.DataFrame(row).T)\n",
    "    ticket_pred = predict_model.predict(X_scaled_runs)\n",
    "    runs.at[index,'ticketPred'] = ticket_pred[0]"
   ]
  },
  {
   "cell_type": "markdown",
   "metadata": {},
   "source": [
    "#### Clean unnecessary rows"
   ]
  },
  {
   "cell_type": "code",
   "execution_count": 34,
   "metadata": {},
   "outputs": [
    {
     "data": {
      "text/html": [
       "<div>\n",
       "<style scoped>\n",
       "    .dataframe tbody tr th:only-of-type {\n",
       "        vertical-align: middle;\n",
       "    }\n",
       "\n",
       "    .dataframe tbody tr th {\n",
       "        vertical-align: top;\n",
       "    }\n",
       "\n",
       "    .dataframe thead th {\n",
       "        text-align: right;\n",
       "    }\n",
       "</style>\n",
       "<table border=\"1\" class=\"dataframe\">\n",
       "  <thead>\n",
       "    <tr style=\"text-align: right;\">\n",
       "      <th></th>\n",
       "      <th>Runs</th>\n",
       "      <th>ticketPred</th>\n",
       "    </tr>\n",
       "  </thead>\n",
       "  <tbody>\n",
       "    <tr>\n",
       "      <th>0</th>\n",
       "      <td>95</td>\n",
       "      <td>81.223004</td>\n",
       "    </tr>\n",
       "    <tr>\n",
       "      <th>1</th>\n",
       "      <td>96</td>\n",
       "      <td>81.277691</td>\n",
       "    </tr>\n",
       "    <tr>\n",
       "      <th>2</th>\n",
       "      <td>97</td>\n",
       "      <td>81.332379</td>\n",
       "    </tr>\n",
       "    <tr>\n",
       "      <th>3</th>\n",
       "      <td>98</td>\n",
       "      <td>81.387066</td>\n",
       "    </tr>\n",
       "    <tr>\n",
       "      <th>4</th>\n",
       "      <td>99</td>\n",
       "      <td>81.441754</td>\n",
       "    </tr>\n",
       "    <tr>\n",
       "      <th>5</th>\n",
       "      <td>100</td>\n",
       "      <td>81.496441</td>\n",
       "    </tr>\n",
       "    <tr>\n",
       "      <th>6</th>\n",
       "      <td>101</td>\n",
       "      <td>81.551129</td>\n",
       "    </tr>\n",
       "    <tr>\n",
       "      <th>7</th>\n",
       "      <td>102</td>\n",
       "      <td>81.605816</td>\n",
       "    </tr>\n",
       "    <tr>\n",
       "      <th>8</th>\n",
       "      <td>103</td>\n",
       "      <td>81.660504</td>\n",
       "    </tr>\n",
       "    <tr>\n",
       "      <th>9</th>\n",
       "      <td>104</td>\n",
       "      <td>81.715191</td>\n",
       "    </tr>\n",
       "  </tbody>\n",
       "</table>\n",
       "</div>"
      ],
      "text/plain": [
       "  Runs  ticketPred\n",
       "0   95   81.223004\n",
       "1   96   81.277691\n",
       "2   97   81.332379\n",
       "3   98   81.387066\n",
       "4   99   81.441754\n",
       "5  100   81.496441\n",
       "6  101   81.551129\n",
       "7  102   81.605816\n",
       "8  103   81.660504\n",
       "9  104   81.715191"
      ]
     },
     "execution_count": 34,
     "metadata": {},
     "output_type": "execute_result"
    }
   ],
   "source": [
    "runs = runs[['Runs','ticketPred']]\n",
    "runs.head(10)"
   ]
  },
  {
   "cell_type": "markdown",
   "metadata": {},
   "source": [
    "#### Export prediction dataframe"
   ]
  },
  {
   "cell_type": "code",
   "execution_count": 35,
   "metadata": {
    "pycharm": {
     "name": "#%%\n"
    }
   },
   "outputs": [
    {
     "name": "stdout",
     "output_type": "stream",
     "text": [
      "Done!\n"
     ]
    }
   ],
   "source": [
    "# Write dataframe to csv \n",
    "path=\"C:\\\\Users\\\\thoma\\\\projects\\\\datascience\\\\capstone-01\\\\data\\\\output\\\\runs_increase.csv\"\n",
    "runs.to_csv(path, index=False)\n",
    "print('Done!')"
   ]
  },
  {
   "cell_type": "markdown",
   "metadata": {
    "colab_type": "text",
    "id": "O0Yli8MXGUZH",
    "pycharm": {
     "name": "#%% md\n"
    }
   },
   "source": [
    "**<font color='teal'> As part of reviewing the results it is an important step to generate figures to visualize the data story. We can use the clusters we added to our data frame to create scatter plots for visualizing the Adult Weekend values compared to other characteristics. Run the example below to get you started and build two or three more figures to include in your data story telling.</font>**"
   ]
  },
  {
   "cell_type": "code",
   "execution_count": 36,
   "metadata": {
    "pycharm": {
     "name": "#%%\n"
    }
   },
   "outputs": [
    {
     "data": {
      "image/png": "[encoded data removed]",
      "text/plain": [
       "<Figure size 432x288 with 1 Axes>"
      ]
     },
     "metadata": {
      "needs_background": "light"
     },
     "output_type": "display_data"
    }
   ],
   "source": [
    "plt.scatter(df['summit_elev'], df['vertical_drop'], c=df['clusters'], s=50, cmap='viridis', label ='clusters')\n",
    "plt.scatter(row['summit_elev'], row['vertical_drop'], c='red', s=100)\n",
    "plt.xlabel('Summit Elevation')\n",
    "plt.ylabel('Vertical Drop')\n",
    "plt.title('Summit Elevation vs Vertical Drop by Cluster')\n",
    "\n",
    "path = 'C:\\\\Users\\\\thoma\\\\projects\\\\datascience\\\\capstone-01\\\\figures\\\\fig1.png'\n",
    "plt.savefig(path,bbox_inches='tight')"
   ]
  },
  {
   "cell_type": "markdown",
   "metadata": {},
   "source": [
    "#### <font color='teal'>Snow Making Acerage Increase</font>"
   ]
  },
  {
   "cell_type": "code",
   "execution_count": 37,
   "metadata": {
    "pycharm": {
     "name": "#%%\n"
    }
   },
   "outputs": [
    {
     "data": {
      "image/png": "[encoded data removed]",
      "text/plain": [
       "<Figure size 432x288 with 1 Axes>"
      ]
     },
     "metadata": {
      "needs_background": "light"
     },
     "output_type": "display_data"
    }
   ],
   "source": [
    "plt.plot(acres['Snow Making_ac'], acres['ticketPred'],'k')\n",
    "plt.plot(acres[acres['Snow Making_ac'] == 600]['Snow Making_ac'], acres[acres['Snow Making_ac'] == 600]['ticketPred'],'ro')\n",
    "plt.xlabel('Snow Making (acres)')\n",
    "plt.ylabel('Ticket Price ($)')\n",
    "plt.grid()\n",
    "plt.title('Snow Making Acerage vs Ticket Price')\n",
    "\n",
    "\n",
    "path = 'C:\\\\Users\\\\thoma\\\\projects\\\\datascience\\\\capstone-01\\\\figures\\\\fig2.png'\n",
    "plt.savefig(path,bbox_inches='tight')"
   ]
  },
  {
   "cell_type": "markdown",
   "metadata": {
    "pycharm": {
     "name": "#%% md\n"
    }
   },
   "source": [
    "#### <font color='teal'>Runs Increase</font>"
   ]
  },
  {
   "cell_type": "code",
   "execution_count": 38,
   "metadata": {
    "pycharm": {
     "name": "#%%\n"
    }
   },
   "outputs": [
    {
     "data": {
      "image/png": "[encoded data removed]",
      "text/plain": [
       "<Figure size 432x288 with 1 Axes>"
      ]
     },
     "metadata": {
      "needs_background": "light"
     },
     "output_type": "display_data"
    }
   ],
   "source": [
    "plt.plot(runs['Runs'], runs['ticketPred'],'k')\n",
    "plt.plot(runs[runs['Runs'] == 105]['Runs'], runs[runs['Runs'] == 105]['ticketPred'],'ro')\n",
    "plt.xlabel('Runs')\n",
    "plt.ylabel('Ticket Price ($)')\n",
    "plt.grid()\n",
    "plt.title('Runs vs Ticket Price')\n",
    "\n",
    "path = 'C:\\\\Users\\\\thoma\\\\projects\\\\datascience\\\\capstone-01\\\\figures\\\\fig3.png'\n",
    "plt.savefig(path,bbox_inches='tight')"
   ]
  },
  {
   "cell_type": "markdown",
   "metadata": {},
   "source": [
    "## Finalize Code"
   ]
  },
  {
   "cell_type": "markdown",
   "metadata": {
    "pycharm": {
     "name": "#%% md\n"
    }
   },
   "source": [
    " Making sure our code is well organized and easy to follow is an important step. This is the time where you need to review the notebooks and Python scripts you've created and clean them up so they are easy to follow and succinct in nature. Addtionally, we will also save our final model as a callable object using Pickle for future use in a data pipeline. Pickle is a module that serializes (and de-serializes) Python objects so that they can become executable objects like functions. It's used extensively in production environments where machine learning models are deployed on an industrial scale!**<font color='teal'> Run the example code below to save out your callable model. Notice that we save it in the models folder we created in our previous guided capstone step.</font>** "
   ]
  },
  {
   "cell_type": "code",
   "execution_count": 39,
   "metadata": {
    "pycharm": {
     "name": "#%%\n"
    }
   },
   "outputs": [
    {
     "data": {
      "text/plain": [
       "['C:\\\\Users\\\\thoma\\\\projects\\\\datascience\\\\capstone-01\\\\models\\\\regression_model_adultweekend.joblib']"
      ]
     },
     "execution_count": 39,
     "metadata": {},
     "output_type": "execute_result"
    }
   ],
   "source": [
    "import pickle\n",
    "s = pickle.dumps(predict_model)\n",
    "from joblib import dump, load\n",
    "path = 'C:\\\\Users\\\\thoma\\\\projects\\\\datascience\\\\capstone-01\\\\models\\\\regression_model_adultweekend.joblib'\n",
    "dump(predict_model, path)"
   ]
  },
  {
   "cell_type": "markdown",
   "metadata": {
    "pycharm": {
     "name": "#%% md\n"
    }
   },
   "source": [
    "## Finalize Documentation"
   ]
  },
  {
   "cell_type": "markdown",
   "metadata": {},
   "source": [
    "For model documentation, we want to save the model performance metrics as well as the features included in the final model. You could also save the model perfomance metrics and coefficients fo the other models you tried in case you want to refer to them later. **<font color='teal'> Create a dataframe containing the coefficients and the model performance metrics and save it out as a csv file, then upload it to your github repository.</font>** "
   ]
  },
  {
   "cell_type": "code",
   "execution_count": 40,
   "metadata": {
    "pycharm": {
     "name": "#%%\n"
    }
   },
   "outputs": [],
   "source": [
    "metrics = pd.DataFrame(lm_pred.coef_, X_pred.columns, columns=['Coefficient']).sort_values('Coefficient', ascending=False).T\n",
    "metrics = metrics.add_prefix('coefficient_')\n",
    "metrics['explained_variance'] = explained_variance_score(y_test_pred, y_check_pred)\n",
    "metrics['mean_absolute_error'] = mean_absolute_error(y_test_pred, y_check_pred)\n",
    "metrics['intercept'] = lm_pred.intercept_"
   ]
  },
  {
   "cell_type": "code",
   "execution_count": 41,
   "metadata": {
    "pycharm": {
     "name": "#%%\n"
    }
   },
   "outputs": [
    {
     "name": "stdout",
     "output_type": "stream",
     "text": [
      "Done!\n"
     ]
    }
   ],
   "source": [
    "# Write your dataframe to csv \n",
    "path=\"C:\\\\Users\\\\thoma\\\\projects\\\\datascience\\\\capstone-01\\\\data\\\\output\\\\model_metrics.csv\"\n",
    "df.to_csv(path, index=False)\n",
    "print('Done!')"
   ]
  }
 ],
 "metadata": {
  "colab": {
   "collapsed_sections": [
    "RtEspslPZyGY",
    "s0DokMkAZyGc",
    "2iuitnKcZyHS",
    "iAWQxougZyHW",
    "ThMTimlBZyHZ",
    "QwZ-LkjXZyHt",
    "srtXEA3N4-Y9",
    "ChVreJupZyIA",
    "zDgSSsq1ZyID",
    "I3GYKWfi5Llg",
    "pmMvrhbI-viE",
    "ZXDPkW3UZyIX",
    "Dnc_vHQLZyId",
    "daJxuJ-dZyIg",
    "mAQ-oHiPZyIn",
    "hnGOsp3mZyIp"
   ],
   "name": "GuidedCapstoneStep6.ipynb",
   "provenance": [],
   "toc_visible": true
  },
  "kernelspec": {
   "display_name": "Python 3",
   "language": "python",
   "name": "python3"
  },
  "language_info": {
   "codemirror_mode": {
    "name": "ipython",
    "version": 3
   },
   "file_extension": ".py",
   "mimetype": "text/x-python",
   "name": "python",
   "nbconvert_exporter": "python",
   "pygments_lexer": "ipython3",
   "version": "3.8.2"
  },
  "toc": {
   "base_numbering": "0",
   "nav_menu": {},
   "number_sections": true,
   "sideBar": true,
   "skip_h1_title": false,
   "title_cell": "Table of Contents",
   "title_sidebar": "Contents",
   "toc_cell": true,
   "toc_position": {
    "height": "calc(100% - 180px)",
    "left": "10px",
    "top": "150px",
    "width": "288px"
   },
   "toc_section_display": true,
   "toc_window_display": true
  }
 },
 "nbformat": 4,
 "nbformat_minor": 1
}
